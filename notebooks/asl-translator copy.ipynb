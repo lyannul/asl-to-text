{
  "cells": [
    {
      "cell_type": "code",
      "execution_count": null,
      "metadata": {
        "execution": {
          "iopub.execute_input": "2022-08-03T12:00:12.206749Z",
          "iopub.status.busy": "2022-08-03T12:00:12.206117Z",
          "iopub.status.idle": "2022-08-03T12:00:29.159323Z",
          "shell.execute_reply": "2022-08-03T12:00:29.157746Z",
          "shell.execute_reply.started": "2022-08-03T12:00:12.206615Z"
        },
        "id": "rTj4p-IZ2Spl",
        "trusted": true
      },
      "outputs": [],
      "source": [
        "!pip install mediapipe"
      ]
    },
    {
      "cell_type": "code",
      "execution_count": 2,
      "metadata": {
        "_cell_guid": "b1076dfc-b9ad-4769-8c92-a6c4dae69d19",
        "_uuid": "8f2839f25d086af736a60e9eeb907d3b93b6e0e5",
        "execution": {
          "iopub.execute_input": "2022-08-03T12:00:29.165344Z",
          "iopub.status.busy": "2022-08-03T12:00:29.164847Z",
          "iopub.status.idle": "2022-08-03T12:00:29.462889Z",
          "shell.execute_reply": "2022-08-03T12:00:29.461488Z",
          "shell.execute_reply.started": "2022-08-03T12:00:29.165293Z"
        },
        "id": "1ChRlndY2Spp",
        "trusted": true
      },
      "outputs": [],
      "source": [
        "import numpy as np\n",
        "import pandas as pd\n",
        "import mediapipe as mp\n",
        "import os\n",
        "import cv2\n",
        "from google.colab import files\n",
        "import keras\n",
        "from keras.preprocessing.image import ImageDataGenerator"
      ]
    },
    {
      "cell_type": "code",
      "execution_count": 3,
      "metadata": {
        "colab": {
          "base_uri": "https://localhost:8080/"
        },
        "id": "TLYjdF1i8tEE",
        "outputId": "2a91752f-c8fb-4bcb-f246-715533c8b0c3"
      },
      "outputs": [
        {
          "name": "stdout",
          "output_type": "stream",
          "text": [
            "Mounted at /content/drive\n"
          ]
        }
      ],
      "source": [
        "from google.colab import drive\n",
        "drive.mount('/content/drive')"
      ]
    },
    {
      "cell_type": "code",
      "execution_count": 4,
      "metadata": {
        "execution": {
          "iopub.execute_input": "2022-08-03T12:00:29.464869Z",
          "iopub.status.busy": "2022-08-03T12:00:29.464526Z",
          "iopub.status.idle": "2022-08-03T12:00:29.470477Z",
          "shell.execute_reply": "2022-08-03T12:00:29.469043Z",
          "shell.execute_reply.started": "2022-08-03T12:00:29.46484Z"
        },
        "id": "6I4x904w2Spq",
        "trusted": true
      },
      "outputs": [],
      "source": [
        "mp_drawing = mp.solutions.drawing_utils\n",
        "mp_drawing_styles = mp.solutions.drawing_styles\n",
        "mp_hands = mp.solutions.hands"
      ]
    },
    {
      "cell_type": "code",
      "execution_count": 35,
      "metadata": {
        "colab": {
          "base_uri": "https://localhost:8080/"
        },
        "execution": {
          "iopub.execute_input": "2022-08-03T12:00:29.473857Z",
          "iopub.status.busy": "2022-08-03T12:00:29.473478Z",
          "iopub.status.idle": "2022-08-03T12:00:29.48405Z",
          "shell.execute_reply": "2022-08-03T12:00:29.482828Z",
          "shell.execute_reply.started": "2022-08-03T12:00:29.47382Z"
        },
        "id": "cr6zkZ1L2Spq",
        "outputId": "ade73aa9-6cd4-473a-f3b0-5099c1eb9a08",
        "trusted": true
      },
      "outputs": [
        {
          "name": "stdout",
          "output_type": "stream",
          "text": [
            "['A', 'B', 'C', 'D', 'E', 'F', 'G', 'H', 'I', 'K', 'L', 'M', 'N', 'O', 'P', 'Q', 'R', 'S', 'T', 'U', 'V', 'W', 'X', 'Y', 'space']\n"
          ]
        }
      ],
      "source": [
        "# A-Z minus J and Z\n",
        "alphabets = list(\"ABCDEFGHIKLMNOPQRSTUVWXY\")\n",
        "alphabets.append('space')\n",
        "print(alphabets)"
      ]
    },
    {
      "cell_type": "code",
      "execution_count": null,
      "metadata": {
        "id": "93mfHLj_3QuG"
      },
      "outputs": [],
      "source": [
        "# Install and set up Kaggle\n",
        "!pip install -q kaggle"
      ]
    },
    {
      "cell_type": "code",
      "execution_count": null,
      "metadata": {
        "colab": {
          "base_uri": "https://localhost:8080/",
          "height": 86
        },
        "id": "eF7PedLm3RnU",
        "outputId": "8ebda151-8f8d-4cbb-a761-f640b2773ee4"
      },
      "outputs": [],
      "source": [
        "files.upload()"
      ]
    },
    {
      "cell_type": "code",
      "execution_count": null,
      "metadata": {
        "id": "W9Zkovuw3TM2"
      },
      "outputs": [],
      "source": [
        "!mkdir ~/.kaggle\n",
        "!cp kaggle.json ~/.kaggle/\n",
        "!chmod 600 ~/.kaggle/kaggle.json"
      ]
    },
    {
      "cell_type": "code",
      "execution_count": null,
      "metadata": {
        "id": "blk2vVZu3V_E"
      },
      "outputs": [],
      "source": [
        "!kaggle datasets download -d signnteam/asl-sign-language-pictures-minus-j-z"
      ]
    },
    {
      "cell_type": "code",
      "execution_count": null,
      "metadata": {
        "id": "kkwaZd2v3a6b"
      },
      "outputs": [],
      "source": [
        "# unzip\n",
        "!mkdir train\n",
        "!unzip asl-sign-language-pictures-minus-j-z.zip -d train\n",
        "!rm asl-sign-language-pictures-minus-j-z.zip"
      ]
    },
    {
      "cell_type": "code",
      "execution_count": null,
      "metadata": {
        "execution": {
          "iopub.execute_input": "2022-08-03T12:01:39.58359Z",
          "iopub.status.busy": "2022-08-03T12:01:39.583159Z",
          "iopub.status.idle": "2022-08-03T12:16:37.536142Z",
          "shell.execute_reply": "2022-08-03T12:16:37.53468Z",
          "shell.execute_reply.started": "2022-08-03T12:01:39.583555Z"
        },
        "id": "j0Gty69B2Spr",
        "trusted": true
      },
      "outputs": [],
      "source": [
        "temp_dataset = []\n",
        "\n",
        "for label in alphabets:\n",
        "    dataset_directory_prefix = '/content/drive/MyDrive/Colab Notebooks/datasets/SigNN Character Database/'\n",
        "    for dirname, _, filenames in os.walk(dataset_directory_prefix + label):\n",
        "        for filename in filenames:\n",
        "            pathname = os.path.join(dirname, filename)\n",
        "\n",
        "            with mp_hands.Hands(\n",
        "                static_image_mode=True,\n",
        "                max_num_hands=1,\n",
        "                min_detection_confidence=0.5\n",
        "            ) as hands:\n",
        "\n",
        "                # image = cv2.flip(cv2.imread(pathname), 1)\n",
        "                image = cv2.imread(pathname)\n",
        "                result = hands.process(cv2.cvtColor(image, cv2.COLOR_BGR2RGB))\n",
        "\n",
        "                landmark_vertices_xyz = []\n",
        "                if not result.multi_hand_landmarks:\n",
        "                    continue\n",
        "\n",
        "                for l in result.multi_hand_landmarks[0].landmark:\n",
        "                    landmark_vertices_xyz.append(l.x)\n",
        "                    landmark_vertices_xyz.append(l.y)\n",
        "                    landmark_vertices_xyz.append(l.z)\n",
        "\n",
        "                temp_dataset.append((*landmark_vertices_xyz, label))\n",
        "                \n",
        "    print(f'imported: {label}')\n",
        "        \n",
        "landmark_vertices_xyz_label = []\n",
        "for idx in range(21):\n",
        "    for char in list('xyz'):\n",
        "        vertex_label = char+str(idx)\n",
        "        landmark_vertices_xyz_label.append(vertex_label)\n",
        "            \n",
        "print(*landmark_vertices_xyz_label)\n",
        "        \n",
        "dataset = pd.DataFrame(temp_dataset, columns=[*landmark_vertices_xyz_label, 'target'])\n",
        "dataset.head()"
      ]
    },
    {
      "cell_type": "code",
      "execution_count": 37,
      "metadata": {
        "execution": {
          "iopub.execute_input": "2022-08-03T12:16:37.540019Z",
          "iopub.status.busy": "2022-08-03T12:16:37.539001Z",
          "iopub.status.idle": "2022-08-03T12:16:38.359598Z",
          "shell.execute_reply": "2022-08-03T12:16:38.358366Z",
          "shell.execute_reply.started": "2022-08-03T12:16:37.539979Z"
        },
        "id": "7ypYkkZW2Sps",
        "trusted": true
      },
      "outputs": [],
      "source": [
        "dataset.to_csv('data.csv', index=False)"
      ]
    },
    {
      "cell_type": "code",
      "execution_count": 26,
      "metadata": {
        "id": "3uWZU0duWgbE"
      },
      "outputs": [],
      "source": [
        "dataset = pd.read_csv(\"/content/data.csv\")"
      ]
    },
    {
      "cell_type": "code",
      "execution_count": 39,
      "metadata": {
        "execution": {
          "iopub.execute_input": "2022-08-03T12:16:38.361745Z",
          "iopub.status.busy": "2022-08-03T12:16:38.361394Z",
          "iopub.status.idle": "2022-08-03T12:16:38.376997Z",
          "shell.execute_reply": "2022-08-03T12:16:38.375879Z",
          "shell.execute_reply.started": "2022-08-03T12:16:38.361713Z"
        },
        "id": "Cjbq3igE2Sps",
        "trusted": true
      },
      "outputs": [],
      "source": [
        "from sklearn.model_selection import train_test_split\n",
        "\n",
        "X = dataset.drop(['target'],axis=1).values\n",
        "y = dataset['target'].values\n",
        "\n",
        "# Choose your test size to split between training and testing sets:\n",
        "X_train, X_test, y_train, y_test = train_test_split(X, y, test_size=0.25, random_state=42)"
      ]
    },
    {
      "cell_type": "code",
      "execution_count": 40,
      "metadata": {
        "colab": {
          "base_uri": "https://localhost:8080/"
        },
        "execution": {
          "iopub.execute_input": "2022-08-03T12:16:38.380005Z",
          "iopub.status.busy": "2022-08-03T12:16:38.37961Z",
          "iopub.status.idle": "2022-08-03T12:16:38.388345Z",
          "shell.execute_reply": "2022-08-03T12:16:38.386922Z",
          "shell.execute_reply.started": "2022-08-03T12:16:38.379973Z"
        },
        "id": "dzWkzYIy2Spt",
        "outputId": "819f594a-97d0-45c5-b5c7-50791abbbb24",
        "trusted": true
      },
      "outputs": [
        {
          "data": {
            "text/plain": [
              "((6417, 63), (2139, 63))"
            ]
          },
          "execution_count": 40,
          "metadata": {},
          "output_type": "execute_result"
        }
      ],
      "source": [
        "X_train.shape, X_test.shape"
      ]
    },
    {
      "cell_type": "code",
      "execution_count": 41,
      "metadata": {
        "colab": {
          "base_uri": "https://localhost:8080/"
        },
        "execution": {
          "iopub.execute_input": "2022-08-03T12:16:38.390776Z",
          "iopub.status.busy": "2022-08-03T12:16:38.390314Z",
          "iopub.status.idle": "2022-08-03T12:16:38.401067Z",
          "shell.execute_reply": "2022-08-03T12:16:38.40014Z",
          "shell.execute_reply.started": "2022-08-03T12:16:38.39074Z"
        },
        "id": "wQv6EctV2Spt",
        "outputId": "8e207293-f957-43f4-fbce-bc5f4bb2e061",
        "trusted": true
      },
      "outputs": [
        {
          "data": {
            "text/plain": [
              "(6417,)"
            ]
          },
          "execution_count": 41,
          "metadata": {},
          "output_type": "execute_result"
        }
      ],
      "source": [
        "y_train\n",
        "y_train.shape"
      ]
    },
    {
      "cell_type": "code",
      "execution_count": 42,
      "metadata": {
        "execution": {
          "iopub.execute_input": "2022-08-03T12:16:38.402631Z",
          "iopub.status.busy": "2022-08-03T12:16:38.402238Z",
          "iopub.status.idle": "2022-08-03T12:16:44.729013Z",
          "shell.execute_reply": "2022-08-03T12:16:44.727778Z",
          "shell.execute_reply.started": "2022-08-03T12:16:38.402599Z"
        },
        "id": "ZbYSeLA52Spt",
        "trusted": true
      },
      "outputs": [],
      "source": [
        "import tensorflow as tf"
      ]
    },
    {
      "cell_type": "code",
      "execution_count": null,
      "metadata": {
        "id": "3NT1GnIEarO-"
      },
      "outputs": [],
      "source": [
        "model = tf.keras.Sequential([\n",
        "    tf.keras.layers.Dense(units=63, input_shape=[63]),\n",
        "    tf.keras.layers.Dropout(0.2),\n",
        "    tf.keras.layers.Dense(units=128, activation='relu'),\n",
        "    tf.keras.layers.Dense(units=256, activation='relu'),\n",
        "    tf.keras.layers.Dense(units=512, activation='relu'),\n",
        "    tf.keras.layers.Dense(units=512, activation='relu'),\n",
        "    tf.keras.layers.Dropout(0.2),\n",
        "    tf.keras.layers.Dense(units=256, activation='relu'),\n",
        "    tf.keras.layers.Dense(units=128, activation='relu'),\n",
        "    tf.keras.layers.Dropout(0.2),\n",
        "    tf.keras.layers.Dense(units=64, activation='relu'),\n",
        "    tf.keras.layers.Dense(units=25, activation='softmax')\n",
        "])\n",
        "\n",
        "model.summary()"
      ]
    },
    {
      "cell_type": "code",
      "execution_count": null,
      "metadata": {
        "execution": {
          "iopub.execute_input": "2022-08-03T12:20:17.370141Z",
          "iopub.status.busy": "2022-08-03T12:20:17.369648Z",
          "iopub.status.idle": "2022-08-03T12:20:17.482523Z",
          "shell.execute_reply": "2022-08-03T12:20:17.481302Z",
          "shell.execute_reply.started": "2022-08-03T12:20:17.370108Z"
        },
        "id": "299X0t9t2Spu",
        "trusted": true
      },
      "outputs": [],
      "source": [
        "model_2 = tf.keras.Sequential([\n",
        "    tf.keras.layers.LSTM(64, return_sequences=True, activation='relu',  input_shape=[21, 3]),\n",
        "    tf.keras.layers.LSTM(128, return_sequences=True, activation='relu'),\n",
        "    tf.keras.layers.LSTM(64, return_sequences=False, activation='relu'),\n",
        "    tf.keras.layers.Dense(64, activation='relu'),\n",
        "    tf.keras.layers.Dense(32, activation='relu'),\n",
        "    tf.keras.layers.Dense(25, activation='softmax')\n",
        "])\n",
        "\n",
        "model_2.summary()"
      ]
    },
    {
      "cell_type": "code",
      "execution_count": 50,
      "metadata": {
        "execution": {
          "iopub.execute_input": "2022-08-03T12:20:17.485074Z",
          "iopub.status.busy": "2022-08-03T12:20:17.484726Z",
          "iopub.status.idle": "2022-08-03T12:20:17.496506Z",
          "shell.execute_reply": "2022-08-03T12:20:17.495335Z",
          "shell.execute_reply.started": "2022-08-03T12:20:17.485043Z"
        },
        "id": "IPCt2y5z2Spu",
        "trusted": true
      },
      "outputs": [],
      "source": [
        "model.compile(optimizer='adam', loss='categorical_crossentropy', metrics=['accuracy'])"
      ]
    },
    {
      "cell_type": "code",
      "execution_count": null,
      "metadata": {
        "id": "Ufc3rixzawKF"
      },
      "outputs": [],
      "source": [
        "model_2.compile(optimizer='adam', loss='categorical_crossentropy', metrics=['accuracy'])"
      ]
    },
    {
      "cell_type": "code",
      "execution_count": 51,
      "metadata": {
        "colab": {
          "base_uri": "https://localhost:8080/",
          "height": 235
        },
        "execution": {
          "iopub.execute_input": "2022-08-03T12:20:17.499071Z",
          "iopub.status.busy": "2022-08-03T12:20:17.498454Z",
          "iopub.status.idle": "2022-08-03T12:20:17.527975Z",
          "shell.execute_reply": "2022-08-03T12:20:17.526921Z",
          "shell.execute_reply.started": "2022-08-03T12:20:17.498953Z"
        },
        "id": "Apclv0Ue2Spv",
        "outputId": "6d9f836f-d278-4986-a6c7-7ba652bda003",
        "trusted": true
      },
      "outputs": [
        {
          "data": {
            "text/html": [
              "\n",
              "  <div id=\"df-828a2fe7-30fc-4f5c-9a7a-a9acc29c503c\">\n",
              "    <div class=\"colab-df-container\">\n",
              "      <div>\n",
              "<style scoped>\n",
              "    .dataframe tbody tr th:only-of-type {\n",
              "        vertical-align: middle;\n",
              "    }\n",
              "\n",
              "    .dataframe tbody tr th {\n",
              "        vertical-align: top;\n",
              "    }\n",
              "\n",
              "    .dataframe thead th {\n",
              "        text-align: right;\n",
              "    }\n",
              "</style>\n",
              "<table border=\"1\" class=\"dataframe\">\n",
              "  <thead>\n",
              "    <tr style=\"text-align: right;\">\n",
              "      <th></th>\n",
              "      <th>target_A</th>\n",
              "      <th>target_B</th>\n",
              "      <th>target_C</th>\n",
              "      <th>target_D</th>\n",
              "      <th>target_E</th>\n",
              "      <th>target_F</th>\n",
              "      <th>target_G</th>\n",
              "      <th>target_H</th>\n",
              "      <th>target_I</th>\n",
              "      <th>target_K</th>\n",
              "      <th>...</th>\n",
              "      <th>target_Q</th>\n",
              "      <th>target_R</th>\n",
              "      <th>target_S</th>\n",
              "      <th>target_T</th>\n",
              "      <th>target_U</th>\n",
              "      <th>target_V</th>\n",
              "      <th>target_W</th>\n",
              "      <th>target_X</th>\n",
              "      <th>target_Y</th>\n",
              "      <th>target_space</th>\n",
              "    </tr>\n",
              "  </thead>\n",
              "  <tbody>\n",
              "    <tr>\n",
              "      <th>0</th>\n",
              "      <td>1</td>\n",
              "      <td>0</td>\n",
              "      <td>0</td>\n",
              "      <td>0</td>\n",
              "      <td>0</td>\n",
              "      <td>0</td>\n",
              "      <td>0</td>\n",
              "      <td>0</td>\n",
              "      <td>0</td>\n",
              "      <td>0</td>\n",
              "      <td>...</td>\n",
              "      <td>0</td>\n",
              "      <td>0</td>\n",
              "      <td>0</td>\n",
              "      <td>0</td>\n",
              "      <td>0</td>\n",
              "      <td>0</td>\n",
              "      <td>0</td>\n",
              "      <td>0</td>\n",
              "      <td>0</td>\n",
              "      <td>0</td>\n",
              "    </tr>\n",
              "    <tr>\n",
              "      <th>1</th>\n",
              "      <td>0</td>\n",
              "      <td>0</td>\n",
              "      <td>0</td>\n",
              "      <td>0</td>\n",
              "      <td>0</td>\n",
              "      <td>0</td>\n",
              "      <td>0</td>\n",
              "      <td>0</td>\n",
              "      <td>0</td>\n",
              "      <td>0</td>\n",
              "      <td>...</td>\n",
              "      <td>0</td>\n",
              "      <td>0</td>\n",
              "      <td>0</td>\n",
              "      <td>0</td>\n",
              "      <td>0</td>\n",
              "      <td>1</td>\n",
              "      <td>0</td>\n",
              "      <td>0</td>\n",
              "      <td>0</td>\n",
              "      <td>0</td>\n",
              "    </tr>\n",
              "    <tr>\n",
              "      <th>2</th>\n",
              "      <td>0</td>\n",
              "      <td>0</td>\n",
              "      <td>0</td>\n",
              "      <td>0</td>\n",
              "      <td>0</td>\n",
              "      <td>0</td>\n",
              "      <td>0</td>\n",
              "      <td>0</td>\n",
              "      <td>1</td>\n",
              "      <td>0</td>\n",
              "      <td>...</td>\n",
              "      <td>0</td>\n",
              "      <td>0</td>\n",
              "      <td>0</td>\n",
              "      <td>0</td>\n",
              "      <td>0</td>\n",
              "      <td>0</td>\n",
              "      <td>0</td>\n",
              "      <td>0</td>\n",
              "      <td>0</td>\n",
              "      <td>0</td>\n",
              "    </tr>\n",
              "  </tbody>\n",
              "</table>\n",
              "<p>3 rows × 25 columns</p>\n",
              "</div>\n",
              "      <button class=\"colab-df-convert\" onclick=\"convertToInteractive('df-828a2fe7-30fc-4f5c-9a7a-a9acc29c503c')\"\n",
              "              title=\"Convert this dataframe to an interactive table.\"\n",
              "              style=\"display:none;\">\n",
              "        \n",
              "  <svg xmlns=\"http://www.w3.org/2000/svg\" height=\"24px\"viewBox=\"0 0 24 24\"\n",
              "       width=\"24px\">\n",
              "    <path d=\"M0 0h24v24H0V0z\" fill=\"none\"/>\n",
              "    <path d=\"M18.56 5.44l.94 2.06.94-2.06 2.06-.94-2.06-.94-.94-2.06-.94 2.06-2.06.94zm-11 1L8.5 8.5l.94-2.06 2.06-.94-2.06-.94L8.5 2.5l-.94 2.06-2.06.94zm10 10l.94 2.06.94-2.06 2.06-.94-2.06-.94-.94-2.06-.94 2.06-2.06.94z\"/><path d=\"M17.41 7.96l-1.37-1.37c-.4-.4-.92-.59-1.43-.59-.52 0-1.04.2-1.43.59L10.3 9.45l-7.72 7.72c-.78.78-.78 2.05 0 2.83L4 21.41c.39.39.9.59 1.41.59.51 0 1.02-.2 1.41-.59l7.78-7.78 2.81-2.81c.8-.78.8-2.07 0-2.86zM5.41 20L4 18.59l7.72-7.72 1.47 1.35L5.41 20z\"/>\n",
              "  </svg>\n",
              "      </button>\n",
              "      \n",
              "  <style>\n",
              "    .colab-df-container {\n",
              "      display:flex;\n",
              "      flex-wrap:wrap;\n",
              "      gap: 12px;\n",
              "    }\n",
              "\n",
              "    .colab-df-convert {\n",
              "      background-color: #E8F0FE;\n",
              "      border: none;\n",
              "      border-radius: 50%;\n",
              "      cursor: pointer;\n",
              "      display: none;\n",
              "      fill: #1967D2;\n",
              "      height: 32px;\n",
              "      padding: 0 0 0 0;\n",
              "      width: 32px;\n",
              "    }\n",
              "\n",
              "    .colab-df-convert:hover {\n",
              "      background-color: #E2EBFA;\n",
              "      box-shadow: 0px 1px 2px rgba(60, 64, 67, 0.3), 0px 1px 3px 1px rgba(60, 64, 67, 0.15);\n",
              "      fill: #174EA6;\n",
              "    }\n",
              "\n",
              "    [theme=dark] .colab-df-convert {\n",
              "      background-color: #3B4455;\n",
              "      fill: #D2E3FC;\n",
              "    }\n",
              "\n",
              "    [theme=dark] .colab-df-convert:hover {\n",
              "      background-color: #434B5C;\n",
              "      box-shadow: 0px 1px 3px 1px rgba(0, 0, 0, 0.15);\n",
              "      filter: drop-shadow(0px 1px 2px rgba(0, 0, 0, 0.3));\n",
              "      fill: #FFFFFF;\n",
              "    }\n",
              "  </style>\n",
              "\n",
              "      <script>\n",
              "        const buttonEl =\n",
              "          document.querySelector('#df-828a2fe7-30fc-4f5c-9a7a-a9acc29c503c button.colab-df-convert');\n",
              "        buttonEl.style.display =\n",
              "          google.colab.kernel.accessAllowed ? 'block' : 'none';\n",
              "\n",
              "        async function convertToInteractive(key) {\n",
              "          const element = document.querySelector('#df-828a2fe7-30fc-4f5c-9a7a-a9acc29c503c');\n",
              "          const dataTable =\n",
              "            await google.colab.kernel.invokeFunction('convertToInteractive',\n",
              "                                                     [key], {});\n",
              "          if (!dataTable) return;\n",
              "\n",
              "          const docLinkHtml = 'Like what you see? Visit the ' +\n",
              "            '<a target=\"_blank\" href=https://colab.research.google.com/notebooks/data_table.ipynb>data table notebook</a>'\n",
              "            + ' to learn more about interactive tables.';\n",
              "          element.innerHTML = '';\n",
              "          dataTable['output_type'] = 'display_data';\n",
              "          await google.colab.output.renderOutput(dataTable, element);\n",
              "          const docLink = document.createElement('div');\n",
              "          docLink.innerHTML = docLinkHtml;\n",
              "          element.appendChild(docLink);\n",
              "        }\n",
              "      </script>\n",
              "    </div>\n",
              "  </div>\n",
              "  "
            ],
            "text/plain": [
              "   target_A  target_B  target_C  target_D  target_E  target_F  target_G  \\\n",
              "0         1         0         0         0         0         0         0   \n",
              "1         0         0         0         0         0         0         0   \n",
              "2         0         0         0         0         0         0         0   \n",
              "\n",
              "   target_H  target_I  target_K  ...  target_Q  target_R  target_S  target_T  \\\n",
              "0         0         0         0  ...         0         0         0         0   \n",
              "1         0         0         0  ...         0         0         0         0   \n",
              "2         0         1         0  ...         0         0         0         0   \n",
              "\n",
              "   target_U  target_V  target_W  target_X  target_Y  target_space  \n",
              "0         0         0         0         0         0             0  \n",
              "1         0         1         0         0         0             0  \n",
              "2         0         0         0         0         0             0  \n",
              "\n",
              "[3 rows x 25 columns]"
            ]
          },
          "execution_count": 51,
          "metadata": {},
          "output_type": "execute_result"
        }
      ],
      "source": [
        "y_train_encoded = pd.get_dummies(y_train, prefix='target')\n",
        "y_test_encoded = pd.get_dummies(y_test, prefix='target')\n",
        "y_train_encoded.head(3)"
      ]
    },
    {
      "cell_type": "code",
      "execution_count": 52,
      "metadata": {
        "execution": {
          "iopub.execute_input": "2022-08-03T12:20:17.53043Z",
          "iopub.status.busy": "2022-08-03T12:20:17.529476Z",
          "iopub.status.idle": "2022-08-03T12:20:17.534987Z",
          "shell.execute_reply": "2022-08-03T12:20:17.53415Z",
          "shell.execute_reply.started": "2022-08-03T12:20:17.530399Z"
        },
        "id": "R-mUg4lH2Spv",
        "trusted": true
      },
      "outputs": [],
      "source": [
        "early_stop = tf.keras.callbacks.EarlyStopping(\n",
        "    monitor=\"val_loss\",\n",
        "    patience=10,\n",
        "    restore_best_weights=True\n",
        ")"
      ]
    },
    {
      "cell_type": "code",
      "execution_count": null,
      "metadata": {
        "colab": {
          "base_uri": "https://localhost:8080/"
        },
        "id": "uiMA4uf9wXSB",
        "outputId": "c2beb019-e4e3-4580-aab8-f63bee0e3c42"
      },
      "outputs": [
        {
          "name": "stdout",
          "output_type": "stream",
          "text": [
            "Epoch 1/100\n"
          ]
        }
      ],
      "source": [
        "history = model.fit(\n",
        "    X_train,\n",
        "    y_train_encoded,\n",
        "    validation_data=(X_test, y_test_encoded),\n",
        "    epochs=100,\n",
        "    callbacks=[early_stop]\n",
        ")"
      ]
    },
    {
      "cell_type": "code",
      "execution_count": null,
      "metadata": {
        "id": "EcQnqmzTcFUu"
      },
      "outputs": [],
      "source": [
        "# reshape for LSTM model\n",
        "X_train = X_train.reshape([6186, 21, 3])\n",
        "X_test = X_test.reshape([2062, 21, 3])\n",
        "\n",
        "history = model_2.fit(\n",
        "    X_train,\n",
        "    y_train_encoded,\n",
        "    validation_data=(X_test, y_test_encoded),\n",
        "    epochs=100,\n",
        "    callbacks=[early_stop]\n",
        ")"
      ]
    },
    {
      "cell_type": "code",
      "execution_count": null,
      "metadata": {
        "colab": {
          "base_uri": "https://localhost:8080/"
        },
        "id": "co0kVDUNAtx6",
        "outputId": "d7f80167-e2e8-4079-d55f-40004c57e125"
      },
      "outputs": [
        {
          "name": "stderr",
          "output_type": "stream",
          "text": [
            "WARNING:absl:Found untraced functions such as _update_step_xla while saving (showing 1 of 1). These functions will not be directly callable after loading.\n"
          ]
        }
      ],
      "source": [
        "model.save('/content/my_model')"
      ]
    },
    {
      "cell_type": "code",
      "execution_count": null,
      "metadata": {
        "colab": {
          "base_uri": "https://localhost:8080/"
        },
        "id": "nj2ThmCTrglv",
        "outputId": "6b90ee45-3a39-4aa3-90a3-b925bb07f16c"
      },
      "outputs": [
        {
          "name": "stderr",
          "output_type": "stream",
          "text": [
            "WARNING:absl:Found untraced functions such as _update_step_xla while saving (showing 1 of 1). These functions will not be directly callable after loading.\n"
          ]
        }
      ],
      "source": [
        "model_2.save('/content/my_model')"
      ]
    },
    {
      "cell_type": "markdown",
      "metadata": {
        "id": "_EaCDQ_VDatx"
      },
      "source": [
        "# Evaluate Model"
      ]
    },
    {
      "cell_type": "code",
      "execution_count": null,
      "metadata": {
        "colab": {
          "base_uri": "https://localhost:8080/"
        },
        "id": "6sqyd75dqQLz",
        "outputId": "9d6236a2-340f-4dd3-f2ec-785b8c0b1e03"
      },
      "outputs": [
        {
          "name": "stdout",
          "output_type": "stream",
          "text": [
            "65/65 [==============================] - 0s 4ms/step - loss: 0.1284 - accuracy: 0.9622\n"
          ]
        },
        {
          "data": {
            "text/plain": [
              "[0.1284310519695282, 0.9621726274490356]"
            ]
          },
          "execution_count": 16,
          "metadata": {},
          "output_type": "execute_result"
        }
      ],
      "source": [
        "model.evaluate(X_test, y_test_encoded)"
      ]
    },
    {
      "cell_type": "code",
      "execution_count": null,
      "metadata": {
        "colab": {
          "base_uri": "https://localhost:8080/"
        },
        "id": "HlixhIN3Daf4",
        "outputId": "870abf45-d9e0-4135-e05e-806be8065824"
      },
      "outputs": [
        {
          "name": "stdout",
          "output_type": "stream",
          "text": [
            "(2062, 21, 3)\n",
            "(2062,)\n",
            "65/65 [==============================] - 3s 50ms/step - loss: 0.1489 - accuracy: 0.9675\n"
          ]
        },
        {
          "data": {
            "text/plain": [
              "[0.14891590178012848, 0.9675073027610779]"
            ]
          },
          "execution_count": 85,
          "metadata": {},
          "output_type": "execute_result"
        }
      ],
      "source": [
        "model_2.evaluate(X_test, y_test_encoded)"
      ]
    },
    {
      "cell_type": "markdown",
      "metadata": {
        "id": "WdtkjUQc2Spx"
      },
      "source": [
        "# Save Model to JSON (for tensorflowjs)"
      ]
    },
    {
      "cell_type": "code",
      "execution_count": null,
      "metadata": {
        "execution": {
          "iopub.execute_input": "2022-08-03T12:21:40.349668Z",
          "iopub.status.busy": "2022-08-03T12:21:40.349321Z",
          "iopub.status.idle": "2022-08-03T12:21:51.790053Z",
          "shell.execute_reply": "2022-08-03T12:21:51.788311Z",
          "shell.execute_reply.started": "2022-08-03T12:21:40.349638Z"
        },
        "id": "m6eqG5462Spy",
        "trusted": true
      },
      "outputs": [],
      "source": [
        "!pip install tensorflowjs"
      ]
    },
    {
      "cell_type": "code",
      "execution_count": null,
      "metadata": {
        "id": "YG9X0gUnLi4K"
      },
      "outputs": [],
      "source": [
        "!pip install jaxlib==0.4.2"
      ]
    },
    {
      "cell_type": "code",
      "execution_count": null,
      "metadata": {
        "colab": {
          "base_uri": "https://localhost:8080/"
        },
        "id": "ol0rmDxMGgXm",
        "outputId": "12125d3d-d30c-4ef5-dad0-96444dc9f4e8"
      },
      "outputs": [
        {
          "name": "stdout",
          "output_type": "stream",
          "text": [
            "Looking in indexes: https://pypi.org/simple, https://us-python.pkg.dev/colab-wheels/public/simple/\n",
            "Collecting jaxlib==0.3.25\n",
            "  Downloading jaxlib-0.3.25-cp38-cp38-manylinux2014_x86_64.whl (71.2 MB)\n",
            "\u001b[2K     \u001b[90m━━━━━━━━━━━━━━━━━━━━━━━━━━━━━━━━━━━━━━━━\u001b[0m \u001b[32m71.2/71.2 MB\u001b[0m \u001b[31m8.7 MB/s\u001b[0m eta \u001b[36m0:00:00\u001b[0m\n",
            "\u001b[?25hRequirement already satisfied: scipy>=1.5 in /usr/local/lib/python3.8/dist-packages (from jaxlib==0.3.25) (1.7.3)\n",
            "Requirement already satisfied: numpy>=1.20 in /usr/local/lib/python3.8/dist-packages (from jaxlib==0.3.25) (1.21.6)\n",
            "Installing collected packages: jaxlib\n",
            "  Attempting uninstall: jaxlib\n",
            "    Found existing installation: jaxlib 0.4.2\n",
            "    Uninstalling jaxlib-0.4.2:\n",
            "      Successfully uninstalled jaxlib-0.4.2\n",
            "Successfully installed jaxlib-0.3.25\n"
          ]
        }
      ],
      "source": [
        "!pip install jaxlib==0.3.25"
      ]
    },
    {
      "cell_type": "code",
      "execution_count": null,
      "metadata": {
        "id": "KAhLEMGHLVha"
      },
      "outputs": [],
      "source": [
        "!pip show jaxlib"
      ]
    },
    {
      "cell_type": "code",
      "execution_count": null,
      "metadata": {
        "colab": {
          "base_uri": "https://localhost:8080/"
        },
        "execution": {
          "iopub.execute_input": "2022-08-03T12:21:51.793222Z",
          "iopub.status.busy": "2022-08-03T12:21:51.792699Z",
          "iopub.status.idle": "2022-08-03T12:21:51.79903Z",
          "shell.execute_reply": "2022-08-03T12:21:51.797637Z",
          "shell.execute_reply.started": "2022-08-03T12:21:51.793172Z"
        },
        "id": "lGYhvFNL2Spy",
        "outputId": "8b8579f7-6b99-496e-ad5c-7d88edbe0b33",
        "trusted": true
      },
      "outputs": [
        {
          "name": "stdout",
          "output_type": "stream",
          "text": [
            "2023-02-15 22:03:43.849606: I tensorflow/core/platform/cpu_feature_guard.cc:193] This TensorFlow binary is optimized with oneAPI Deep Neural Network Library (oneDNN) to use the following CPU instructions in performance-critical operations:  AVX2 FMA\n",
            "To enable them in other operations, rebuild TensorFlow with the appropriate compiler flags.\n",
            "2023-02-15 22:03:45.903659: W tensorflow/compiler/xla/stream_executor/platform/default/dso_loader.cc:64] Could not load dynamic library 'libnvinfer.so.7'; dlerror: libnvinfer.so.7: cannot open shared object file: No such file or directory; LD_LIBRARY_PATH: /usr/local/nvidia/lib:/usr/local/nvidia/lib64\n",
            "2023-02-15 22:03:45.903845: W tensorflow/compiler/xla/stream_executor/platform/default/dso_loader.cc:64] Could not load dynamic library 'libnvinfer_plugin.so.7'; dlerror: libnvinfer_plugin.so.7: cannot open shared object file: No such file or directory; LD_LIBRARY_PATH: /usr/local/nvidia/lib:/usr/local/nvidia/lib64\n",
            "2023-02-15 22:03:45.903881: W tensorflow/compiler/tf2tensorrt/utils/py_utils.cc:38] TF-TRT Warning: Cannot dlopen some TensorRT libraries. If you would like to use Nvidia GPU with TensorRT, please make sure the missing libraries mentioned above are installed properly.\n",
            "2023-02-15 22:03:52.155761: E tensorflow/compiler/xla/stream_executor/cuda/cuda_driver.cc:267] failed call to cuInit: CUDA_ERROR_NO_DEVICE: no CUDA-capable device is detected\n",
            "Writing weight file /content/tfjs_model/model.json...\n"
          ]
        }
      ],
      "source": [
        "!tensorflowjs_converter \\\n",
        "    --input_format=tf_saved_model \\\n",
        "    --output_format=tfjs_graph_model \\\n",
        "    --signature_name=serving_default \\\n",
        "    --saved_model_tags=serve \\\n",
        "    /content/my_model \\\n",
        "    /content/tfjs_model"
      ]
    }
  ],
  "metadata": {
    "colab": {
      "provenance": []
    },
    "kernelspec": {
      "display_name": "Python 3",
      "language": "python",
      "name": "python3"
    },
    "language_info": {
      "codemirror_mode": {
        "name": "ipython",
        "version": 3
      },
      "file_extension": ".py",
      "mimetype": "text/x-python",
      "name": "python",
      "nbconvert_exporter": "python",
      "pygments_lexer": "ipython3",
      "version": "3.6.4"
    }
  },
  "nbformat": 4,
  "nbformat_minor": 0
}
